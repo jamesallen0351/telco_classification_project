{
 "cells": [
  {
   "cell_type": "markdown",
   "id": "420fed10",
   "metadata": {},
   "source": [
    "# Adding a git ignore to repository from one that I made previously\n",
    "\n",
    "### run the below commands on the terminal to add it to this repository"
   ]
  },
  {
   "cell_type": "code",
   "execution_count": 3,
   "id": "d4a8a91a",
   "metadata": {},
   "outputs": [],
   "source": [
    "# cp ~/codeup-data-science/numpy-pandas-visualization-exercises/.gitignore ~/codeup-data-science/telco_classsification_project"
   ]
  },
  {
   "cell_type": "code",
   "execution_count": 4,
   "id": "e2dad592",
   "metadata": {},
   "outputs": [],
   "source": [
    "# cp ~/codeup-data-science/numpy-pandas-visualization-exercises/env.py ~/codeup-data-science/telco_classsification_project"
   ]
  },
  {
   "cell_type": "markdown",
   "id": "c0472440",
   "metadata": {},
   "source": [
    "# Setting up a template to connect to a database"
   ]
  },
  {
   "cell_type": "code",
   "execution_count": null,
   "id": "d2f5c5da",
   "metadata": {},
   "outputs": [],
   "source": []
  }
 ],
 "metadata": {
  "kernelspec": {
   "display_name": "Python 3",
   "language": "python",
   "name": "python3"
  },
  "language_info": {
   "codemirror_mode": {
    "name": "ipython",
    "version": 3
   },
   "file_extension": ".py",
   "mimetype": "text/x-python",
   "name": "python",
   "nbconvert_exporter": "python",
   "pygments_lexer": "ipython3",
   "version": "3.8.8"
  }
 },
 "nbformat": 4,
 "nbformat_minor": 5
}
