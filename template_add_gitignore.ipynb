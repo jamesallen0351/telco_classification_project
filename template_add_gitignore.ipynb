{
 "cells": [
  {
   "cell_type": "markdown",
   "id": "271ef4b2",
   "metadata": {},
   "source": [
    "# Adding a git ignore to repository from one that I made previously\n",
    "\n",
    "### run the below commands on the terminal to add .gitignore and env.py it to this repository"
   ]
  },
  {
   "cell_type": "code",
   "execution_count": 3,
   "id": "b6730b19",
   "metadata": {},
   "outputs": [],
   "source": [
    "# cp ~/codeup-data-science/numpy-pandas-visualization-exercises/.gitignore ~/codeup-data-science/telco_classification_project"
   ]
  },
  {
   "cell_type": "code",
   "execution_count": 4,
   "id": "2786462c",
   "metadata": {},
   "outputs": [],
   "source": [
    "# cp ~/codeup-data-science/numpy-pandas-visualization-exercises/env.py ~/codeup-data-science/telco_classification_project"
   ]
  }
 ],
 "metadata": {
  "kernelspec": {
   "display_name": "Python 3",
   "language": "python",
   "name": "python3"
  },
  "language_info": {
   "codemirror_mode": {
    "name": "ipython",
    "version": 3
   },
   "file_extension": ".py",
   "mimetype": "text/x-python",
   "name": "python",
   "nbconvert_exporter": "python",
   "pygments_lexer": "ipython3",
   "version": "3.8.8"
  }
 },
 "nbformat": 4,
 "nbformat_minor": 5
}
