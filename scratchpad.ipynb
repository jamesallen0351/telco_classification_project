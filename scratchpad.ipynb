{
 "cells": [
  {
   "cell_type": "code",
   "execution_count": 4,
   "id": "eaba22af",
   "metadata": {},
   "outputs": [],
   "source": [
    "# getting data for aquire.py\n",
    "\n",
    "import pandas as pd\n",
    "import numpy as np\n",
    "import os\n",
    "from env import host, user, password\n",
    "\n",
    "def get_connection(db, user=user, host=host, password=password):\n",
    "    '''\n",
    "    This function gets my info from my env file and creats a connection url \n",
    "    \n",
    "    '''\n",
    "    return f'mysql+pymysql://{user}:{password}@{host}/{db}'\n",
    "    \n",
    "# Acquiring telco_churn data\n",
    "\n",
    "def telco_churn_data():\n",
    "    '''\n",
    "    get telco_churn_data and put into a dataframe\n",
    "    '''\n",
    "    sql_query = '''select * from customers\n",
    "    join internet_service_types using(internet_service_type_id)\n",
    "    join contract_types using(contract_type_id)\n",
    "    join payment_types using(payment_type_id)'''\n",
    "    \n",
    "    df = pd.read_sql(sql_query, get_connection('telco_churn'))\n",
    "    \n",
    "    return df \n",
    "\n",
    "def get_telco_churn_data():\n",
    "    '''get connection, returns telco_churn into a dataframe and creates a csv for us'''\n",
    "    \n",
    "    if os.path.isfile('telco_churn.csv'):\n",
    "        \n",
    "        df = pd.read_csv('telco_churn.csv', index_col=0)\n",
    "    \n",
    "    else:\n",
    "        \n",
    "        df = new_telco_churn_data()\n",
    "        df.to_csv('telco_churn.csv')\n",
    "    \n",
    "    return df"
   ]
  },
  {
   "cell_type": "code",
   "execution_count": null,
   "id": "e7a54e8c",
   "metadata": {},
   "outputs": [],
   "source": []
  }
 ],
 "metadata": {
  "kernelspec": {
   "display_name": "Python 3",
   "language": "python",
   "name": "python3"
  },
  "language_info": {
   "codemirror_mode": {
    "name": "ipython",
    "version": 3
   },
   "file_extension": ".py",
   "mimetype": "text/x-python",
   "name": "python",
   "nbconvert_exporter": "python",
   "pygments_lexer": "ipython3",
   "version": "3.8.8"
  }
 },
 "nbformat": 4,
 "nbformat_minor": 5
}
